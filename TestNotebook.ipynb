{
 "cells": [
  {
   "cell_type": "code",
   "execution_count": 1,
   "metadata": {},
   "outputs": [
    {
     "data": {
      "text/markdown": [
       "\r\n",
       "series|x|y\r\n",
       ":--:|:--:|:--:\r\n",
       "\"SF zoo\"|\"giraffes\"|20\r\n",
       "\"SF zoo\"|\"orangutans\"|14\r\n",
       "\"SF zoo\"|\"monkeys\"|23\r\n",
       "\"LA zoo\"|\"giraffes\"|12\r\n",
       "\"LA zoo\"|\"orangutans\"|18\r\n",
       "\"LA zoo\"|\"monkeys\"|29\r\n"
      ]
     },
     "metadata": {},
     "output_type": "display_data"
    }
   ],
   "source": [
    "{[$:series, $:x, &:y]} : data := {                                               \n",
    " [\"SF zoo\", \"giraffes\", 20.0],                                                   \n",
    " [\"SF zoo\", \"orangutans\", 14.0],                                                 \n",
    " [\"SF zoo\", \"monkeys\", 23.0],                                                    \n",
    " [\"LA zoo\", \"giraffes\", 12.0],                                                   \n",
    " [\"LA zoo\", \"orangutans\", 18.0],                                                 \n",
    " [\"LA zoo\", \"monkeys\", 29.0]                                                     \n",
    "}; \n",
    "`print data;"
   ]
  },
  {
   "cell_type": "code",
   "execution_count": 2,
   "metadata": {},
   "outputs": [
    {
     "data": {
      "text/markdown": [
       "\r\n",
       "<svg xmlns=\"http://www.w3.org/2000/svg\" version=\"1.1\" width=\"2000\" height=\"1000\">\r\n",
       "<g transform=\"translate(0.000000, 0.000000)\">\r\n",
       "<g transform=\"scale(1.000000, 1.000000)\">\r\n",
       "<path d=\"M 570.000000 40.000000 l 15.000000 0.000000 l 0.000000 15.000000 l -15.000000 0.000000 l 0.000000 -15.000000 \" fill=\"rgb(225,225,225)\" fill-opacity=\"0.800000\" stroke=\"none\" />\r\n",
       "<text x=\"588.750000\" y=\"53.000000\" font-family=\"Helvetica\" font-size=\"15.000000\" font-style=\"normal\" font-weight=\"normal\" fill=\"rgb(128,128,128)\" fill-opacity=\"1.000000\" text-anchor=\"start\">SF zoo</text>\r\n",
       "<path d=\"M 570.000000 62.500000 l 15.000000 0.000000 l 0.000000 15.000000 l -15.000000 0.000000 l 0.000000 -15.000000 \" fill=\"rgb(125,125,125)\" fill-opacity=\"0.800000\" stroke=\"none\" />\r\n",
       "<text x=\"588.750000\" y=\"75.500000\" font-family=\"Helvetica\" font-size=\"15.000000\" font-style=\"normal\" font-weight=\"normal\" fill=\"rgb(128,128,128)\" fill-opacity=\"1.000000\" text-anchor=\"start\">LA zoo</text>\r\n",
       "<g transform=\"translate(40.000000, 560.000000)\">\r\n",
       "<g transform=\"scale(1.000000, -1.000000)\">\r\n",
       "<path d=\"M 0.000000 0.000000 l 520.000000 0.000000 l 0.000000 520.000000 l -520.000000 0.000000 l 0.000000 -520.000000 \" fill=\"rgb(247,247,247)\" fill-opacity=\"1.000000\" stroke=\"none\" />\r\n",
       "<path d=\"M 0.000000 0.000000 L 520.000000 0.000000 \" stroke=\"rgb(128,128,128)\" stroke-opacity=\"1.000000\" stroke-width=\"0.500000\" stroke-linecap=\"butt\" stroke-linejoin=\"miter\" stroke-miterlimit=\"10.000000\" fill=\"none\" />\r\n",
       "<path d=\"M 98.222222 0.000000 L 98.222222 -2.000000 \" stroke=\"rgb(128,128,128)\" stroke-opacity=\"1.000000\" stroke-width=\"0.500000\" stroke-linecap=\"butt\" stroke-linejoin=\"miter\" stroke-miterlimit=\"10.000000\" fill=\"none\" />\r\n",
       "<path d=\"M 260.000000 0.000000 L 260.000000 -2.000000 \" stroke=\"rgb(128,128,128)\" stroke-opacity=\"1.000000\" stroke-width=\"0.500000\" stroke-linecap=\"butt\" stroke-linejoin=\"miter\" stroke-miterlimit=\"10.000000\" fill=\"none\" />\r\n",
       "<path d=\"M 421.777778 0.000000 L 421.777778 -2.000000 \" stroke=\"rgb(128,128,128)\" stroke-opacity=\"1.000000\" stroke-width=\"0.500000\" stroke-linecap=\"butt\" stroke-linejoin=\"miter\" stroke-miterlimit=\"10.000000\" fill=\"none\" />\r\n",
       "<g transform=\"scale(1.000000, -1.000000)\">\r\n",
       "<text x=\"98.222222\" y=\"15.000000\" font-family=\"Helvetica\" font-size=\"15.000000\" font-style=\"normal\" font-weight=\"normal\" fill=\"rgb(128,128,128)\" fill-opacity=\"1.000000\" text-anchor=\"middle\">giraffes</text>\r\n",
       "</g>\r\n",
       "<g transform=\"scale(1.000000, -1.000000)\">\r\n",
       "<text x=\"260.000000\" y=\"15.000000\" font-family=\"Helvetica\" font-size=\"15.000000\" font-style=\"normal\" font-weight=\"normal\" fill=\"rgb(128,128,128)\" fill-opacity=\"1.000000\" text-anchor=\"middle\">orangutans</text>\r\n",
       "</g>\r\n",
       "<g transform=\"scale(1.000000, -1.000000)\">\r\n",
       "<text x=\"421.777778\" y=\"15.000000\" font-family=\"Helvetica\" font-size=\"15.000000\" font-style=\"normal\" font-weight=\"normal\" fill=\"rgb(128,128,128)\" fill-opacity=\"1.000000\" text-anchor=\"middle\">monkeys</text>\r\n",
       "</g>\r\n",
       "<path d=\"M 0.000000 0.000000 L 0.000000 520.000000 \" stroke=\"rgb(128,128,128)\" stroke-opacity=\"1.000000\" stroke-width=\"0.500000\" stroke-linecap=\"butt\" stroke-linejoin=\"miter\" stroke-miterlimit=\"10.000000\" fill=\"none\" />\r\n",
       "<path d=\"M -2.000000 173.333330 L 0.000000 173.333330 \" stroke=\"rgb(128,128,128)\" stroke-opacity=\"1.000000\" stroke-width=\"0.500000\" stroke-linecap=\"butt\" stroke-linejoin=\"miter\" stroke-miterlimit=\"10.000000\" fill=\"none\" />\r\n",
       "<path d=\"M -2.000000 346.666660 L 0.000000 346.666660 \" stroke=\"rgb(128,128,128)\" stroke-opacity=\"1.000000\" stroke-width=\"0.500000\" stroke-linecap=\"butt\" stroke-linejoin=\"miter\" stroke-miterlimit=\"10.000000\" fill=\"none\" />\r\n",
       "<path d=\"M -2.000000 519.999990 L 0.000000 519.999990 \" stroke=\"rgb(128,128,128)\" stroke-opacity=\"1.000000\" stroke-width=\"0.500000\" stroke-linecap=\"butt\" stroke-linejoin=\"miter\" stroke-miterlimit=\"10.000000\" fill=\"none\" />\r\n",
       "<path d=\"M 0.000000 173.333330 L 520.000000 173.333330 \" stroke=\"rgb(225,225,225)\" stroke-opacity=\"1.000000\" stroke-width=\"0.250000\" stroke-linecap=\"butt\" stroke-linejoin=\"miter\" stroke-miterlimit=\"10.000000\" fill=\"none\" />\r\n",
       "<path d=\"M 0.000000 346.666660 L 520.000000 346.666660 \" stroke=\"rgb(225,225,225)\" stroke-opacity=\"1.000000\" stroke-width=\"0.250000\" stroke-linecap=\"butt\" stroke-linejoin=\"miter\" stroke-miterlimit=\"10.000000\" fill=\"none\" />\r\n",
       "<path d=\"M 0.000000 519.999990 L 520.000000 519.999990 \" stroke=\"rgb(225,225,225)\" stroke-opacity=\"1.000000\" stroke-width=\"0.250000\" stroke-linecap=\"butt\" stroke-linejoin=\"miter\" stroke-miterlimit=\"10.000000\" fill=\"none\" />\r\n",
       "<g transform=\"scale(1.000000, -1.000000)\">\r\n",
       "<text x=\"-5.000000\" y=\"-168.383330\" font-family=\"Helvetica\" font-size=\"15.000000\" font-style=\"normal\" font-weight=\"normal\" fill=\"rgb(128,128,128)\" fill-opacity=\"1.000000\" text-anchor=\"end\">10</text>\r\n",
       "</g>\r\n",
       "<g transform=\"scale(1.000000, -1.000000)\">\r\n",
       "<text x=\"-5.000000\" y=\"-341.716660\" font-family=\"Helvetica\" font-size=\"15.000000\" font-style=\"normal\" font-weight=\"normal\" fill=\"rgb(128,128,128)\" fill-opacity=\"1.000000\" text-anchor=\"end\">20</text>\r\n",
       "</g>\r\n",
       "<g transform=\"scale(1.000000, -1.000000)\">\r\n",
       "<text x=\"-5.000000\" y=\"-515.049990\" font-family=\"Helvetica\" font-size=\"15.000000\" font-style=\"normal\" font-weight=\"normal\" fill=\"rgb(128,128,128)\" fill-opacity=\"1.000000\" text-anchor=\"end\">30</text>\r\n",
       "</g>\r\n",
       "<path d=\"M 34.666667 0.000000 l 63.055556 0.000000 l 0.000000 346.666667 l -63.055556 0.000000 l 0.000000 -346.666667 \" fill=\"rgb(225,225,225)\" fill-opacity=\"0.800000\" stroke=\"none\" />\r\n",
       "<g transform=\"scale(1.000000, -1.000000)\">\r\n",
       "<text x=\"66.194444\" y=\"-354.166667\" font-family=\"Helvetica\" font-size=\"15.000000\" font-style=\"normal\" font-weight=\"normal\" fill=\"rgb(225,225,225)\" fill-opacity=\"0.800000\" text-anchor=\"middle\">20</text>\r\n",
       "</g>\r\n",
       "<path d=\"M 196.444444 0.000000 l 63.055556 0.000000 l 0.000000 242.666667 l -63.055556 0.000000 l 0.000000 -242.666667 \" fill=\"rgb(225,225,225)\" fill-opacity=\"0.800000\" stroke=\"none\" />\r\n",
       "<g transform=\"scale(1.000000, -1.000000)\">\r\n",
       "<text x=\"227.972222\" y=\"-250.166667\" font-family=\"Helvetica\" font-size=\"15.000000\" font-style=\"normal\" font-weight=\"normal\" fill=\"rgb(225,225,225)\" fill-opacity=\"0.800000\" text-anchor=\"middle\">14</text>\r\n",
       "</g>\r\n",
       "<path d=\"M 358.222222 0.000000 l 63.055556 0.000000 l 0.000000 398.666667 l -63.055556 0.000000 l 0.000000 -398.666667 \" fill=\"rgb(225,225,225)\" fill-opacity=\"0.800000\" stroke=\"none\" />\r\n",
       "<g transform=\"scale(1.000000, -1.000000)\">\r\n",
       "<text x=\"389.750000\" y=\"-406.166667\" font-family=\"Helvetica\" font-size=\"15.000000\" font-style=\"normal\" font-weight=\"normal\" fill=\"rgb(225,225,225)\" fill-opacity=\"0.800000\" text-anchor=\"middle\">23</text>\r\n",
       "</g>\r\n",
       "<path d=\"M 98.722222 0.000000 l 63.055556 0.000000 l 0.000000 208.000000 l -63.055556 0.000000 l 0.000000 -208.000000 \" fill=\"rgb(125,125,125)\" fill-opacity=\"0.800000\" stroke=\"none\" />\r\n",
       "<g transform=\"scale(1.000000, -1.000000)\">\r\n",
       "<text x=\"130.250000\" y=\"-215.500000\" font-family=\"Helvetica\" font-size=\"15.000000\" font-style=\"normal\" font-weight=\"normal\" fill=\"rgb(125,125,125)\" fill-opacity=\"0.800000\" text-anchor=\"middle\">12</text>\r\n",
       "</g>\r\n",
       "<path d=\"M 260.500000 0.000000 l 63.055556 0.000000 l 0.000000 312.000000 l -63.055556 0.000000 l 0.000000 -312.000000 \" fill=\"rgb(125,125,125)\" fill-opacity=\"0.800000\" stroke=\"none\" />\r\n",
       "<g transform=\"scale(1.000000, -1.000000)\">\r\n",
       "<text x=\"292.027778\" y=\"-319.500000\" font-family=\"Helvetica\" font-size=\"15.000000\" font-style=\"normal\" font-weight=\"normal\" fill=\"rgb(125,125,125)\" fill-opacity=\"0.800000\" text-anchor=\"middle\">18</text>\r\n",
       "</g>\r\n",
       "<path d=\"M 422.277778 0.000000 l 63.055556 0.000000 l 0.000000 502.666667 l -63.055556 0.000000 l 0.000000 -502.666667 \" fill=\"rgb(125,125,125)\" fill-opacity=\"0.800000\" stroke=\"none\" />\r\n",
       "<g transform=\"scale(1.000000, -1.000000)\">\r\n",
       "<text x=\"453.805556\" y=\"-510.166667\" font-family=\"Helvetica\" font-size=\"15.000000\" font-style=\"normal\" font-weight=\"normal\" fill=\"rgb(125,125,125)\" fill-opacity=\"0.800000\" text-anchor=\"middle\">29</text>\r\n",
       "</g>\r\n",
       "</g>\r\n",
       "</g>\r\n",
       "</g>\r\n",
       "</g>\r\n",
       "</svg>\r\n"
      ]
     },
     "metadata": {},
     "output_type": "display_data"
    }
   ],
   "source": [
    "`barplot data, 600.0, 600.0;"
   ]
  },
  {
   "cell_type": "code",
   "execution_count": null,
   "metadata": {},
   "outputs": [],
   "source": []
  }
 ],
 "metadata": {
  "kernelspec": {
   "display_name": "Rax",
   "language": "rax",
   "name": "rax"
  },
  "language_info": {
   "file_extension": ".rax",
   "mimetype": "text/x-rax",
   "name": "rax",
   "pygments_lexer": "rax"
  }
 },
 "nbformat": 4,
 "nbformat_minor": 2
}
